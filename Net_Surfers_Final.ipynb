{
 "cells": [
  {
   "cell_type": "code",
   "execution_count": 1,
   "metadata": {},
   "outputs": [],
   "source": [
    "#imports"
   ]
  },
  {
   "cell_type": "markdown",
   "metadata": {},
   "source": [
    "# Introduction\n",
    "\n",
    "Online shopping is getting more and more popular these days. Online stores like Amazon ship millions of orders everyday. Online stores these days have a review section so we can review the products we buy. What we want to find out is, if these reviews influence a buyer to get or not get a product. We also want to project to see if by looking at the reviews we can determine where the product is placed by the ranking in terms of sales. We will only be looking at the books section on amazon since there are millions and millions of reviews and products on amazon."
   ]
  },
  {
   "cell_type": "markdown",
   "metadata": {},
   "source": [
    "# Infrastructure Analysis\n",
    "\n",
    "We are using the selected data format (CSV), as it is easy to parse and can be read easily in Python. Pandas library in Python will be used for analysis of the data. We will use Pandas Library to clean the data and sklearn to do the data analysis. The data will be run on the personal computer, but if the data gets too big, we would need UH Manoa HPC or another server provider to run the data and maybe other resources to run code on that data faster"
   ]
  },
  {
   "cell_type": "markdown",
   "metadata": {},
   "source": [
    "# Data Source\n",
    "\n",
    "http://jmcauley.ucsd.edu/data/amazon/links.html\n",
    "The two sources that will be used are:\n",
    "-   The reviews (22,507,155 reviews) – Using stratified sampling to lower the number of reviews. ~ 6.2 GB\n",
    "-   The metadata (2,370,585 products) ~ 788 MB\n",
    "\n",
    "### The reviews have the fields:\n",
    "- reviewerID - ID of the reviewer, e.g. A2SUAM1J3GNN3B\n",
    "- asin - ID of the product, e.g. 0000013714\n",
    "- reviewerName - name of the reviewer\n",
    "- vote - helpful votes of the review\n",
    "- style - a dictionary of the product metadata, e.g., \"Format\" is \"Hardcover\"\n",
    "- reviewText - text of the review\n",
    "- overall - rating of the product\n",
    "- summary - summary of the review\n",
    "- unixReviewTime - time of the review (unix time)\n",
    "- reviewTime - time of the review (raw)\n",
    "- image - images that users post after they have received the product\n",
    "\n",
    "### The metadata have the fields:\n",
    "- asin - ID of the product, e.g. 0000031852\n",
    "- title - name of the product\n",
    "- feature - bullet-point format features of the product\n",
    "- description - description of the product\n",
    "- price - price in US dollars (at time of crawl)\n",
    "- imageURL - url of the product image\n",
    "- imageURL - url of the high resolution product image\n",
    "- related - related products (also bought, also viewed, bought together, buy after viewing)\n",
    "- salesRank - sales rank information\n",
    "- brand - brand name\n",
    "- categories - list of categories the product belongs to\n",
    "- tech1 - the first technical detail table of the product\n",
    "- tech2 - the second technical detail table of the product\n",
    "- similar - similar product table\n"
   ]
  },
  {
   "cell_type": "markdown",
   "metadata": {},
   "source": [
    "# Data Viz and Summary Stats"
   ]
  },
  {
   "cell_type": "code",
   "execution_count": null,
   "metadata": {},
   "outputs": [],
   "source": []
  },
  {
   "cell_type": "markdown",
   "metadata": {},
   "source": [
    "# Machine Learning"
   ]
  },
  {
   "cell_type": "code",
   "execution_count": null,
   "metadata": {},
   "outputs": [],
   "source": []
  },
  {
   "cell_type": "markdown",
   "metadata": {},
   "source": [
    "# Conclusion"
   ]
  },
  {
   "cell_type": "markdown",
   "metadata": {},
   "source": [
    "# Works Cited\n",
    "\n",
    "J. McAuley, C. Targett, J. Shi, A. van den Hengel SIGIR, 2015\n",
    "\n",
    "R. He, J. McAuley WWW, 2016"
   ]
  }
 ],
 "metadata": {
  "interpreter": {
   "hash": "2c93537bed57b942e147d2b173a5f6056f4b1caf5855720e04dd97ccc7733158"
  },
  "kernelspec": {
   "display_name": "Python 3.9.9 64-bit (windows store)",
   "language": "python",
   "name": "python3"
  },
  "language_info": {
   "codemirror_mode": {
    "name": "ipython",
    "version": 3
   },
   "file_extension": ".py",
   "mimetype": "text/x-python",
   "name": "python",
   "nbconvert_exporter": "python",
   "pygments_lexer": "ipython3",
   "version": "3.8.8"
  },
  "orig_nbformat": 4
 },
 "nbformat": 4,
 "nbformat_minor": 2
}
